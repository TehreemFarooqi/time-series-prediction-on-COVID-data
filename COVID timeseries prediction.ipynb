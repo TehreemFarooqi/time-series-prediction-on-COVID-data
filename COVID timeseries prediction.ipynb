{
  "nbformat": 4,
  "nbformat_minor": 0,
  "metadata": {
    "colab": {
      "name": "project_208550_Tehreem Farooqi.ipynb",
      "provenance": [],
      "toc_visible": true
    },
    "kernelspec": {
      "name": "python3",
      "display_name": "Python 3"
    }
  },
  "cells": [
    {
      "cell_type": "code",
      "metadata": {
        "id": "hx-Oxv6w-AxP"
      },
      "source": [
        "import pandas as pd\n",
        "from sklearn.preprocessing import MinMaxScaler\n",
        "import torch\n",
        "import torch.nn as nn\n",
        " \n",
        "import seaborn as sns\n",
        "import numpy as np\n",
        "import matplotlib.pyplot as plt\n",
        "%matplotlib inline"
      ],
      "execution_count": null,
      "outputs": []
    },
    {
      "cell_type": "markdown",
      "metadata": {
        "id": "RiK1_fIEL161"
      },
      "source": [
        "# Identification of Countries"
      ]
    },
    {
      "cell_type": "code",
      "metadata": {
        "id": "H6srBIG6jA0d",
        "colab": {
          "base_uri": "https://localhost:8080/",
          "height": 490
        },
        "outputId": "78cc5159-4333-430f-a506-b2b43e06a28b"
      },
      "source": [
        "#reading data\n",
        "time_series_init = pd.read_csv('time_series_covid_19_confirmed.csv')\n",
        "time_series_init.drop(columns=['Lat', 'Long', 'Province/State'], inplace=True)\n",
        "time_series_init[\"Total Cases\"] = time_series_init.sum(axis=1)\n",
        "time_series_init"
      ],
      "execution_count": null,
      "outputs": [
        {
          "output_type": "execute_result",
          "data": {
            "text/html": [
              "<div>\n",
              "<style scoped>\n",
              "    .dataframe tbody tr th:only-of-type {\n",
              "        vertical-align: middle;\n",
              "    }\n",
              "\n",
              "    .dataframe tbody tr th {\n",
              "        vertical-align: top;\n",
              "    }\n",
              "\n",
              "    .dataframe thead th {\n",
              "        text-align: right;\n",
              "    }\n",
              "</style>\n",
              "<table border=\"1\" class=\"dataframe\">\n",
              "  <thead>\n",
              "    <tr style=\"text-align: right;\">\n",
              "      <th></th>\n",
              "      <th>Country/Region</th>\n",
              "      <th>1/22/20</th>\n",
              "      <th>1/23/20</th>\n",
              "      <th>1/24/20</th>\n",
              "      <th>1/25/20</th>\n",
              "      <th>1/26/20</th>\n",
              "      <th>1/27/20</th>\n",
              "      <th>1/28/20</th>\n",
              "      <th>1/29/20</th>\n",
              "      <th>1/30/20</th>\n",
              "      <th>1/31/20</th>\n",
              "      <th>02-01-20</th>\n",
              "      <th>02-02-20</th>\n",
              "      <th>02-03-20</th>\n",
              "      <th>02-04-20</th>\n",
              "      <th>02-05-20</th>\n",
              "      <th>02-06-20</th>\n",
              "      <th>02-07-20</th>\n",
              "      <th>02-08-20</th>\n",
              "      <th>02-09-20</th>\n",
              "      <th>02-10-20</th>\n",
              "      <th>02-11-20</th>\n",
              "      <th>02-12-20</th>\n",
              "      <th>2/13/20</th>\n",
              "      <th>2/14/20</th>\n",
              "      <th>2/15/20</th>\n",
              "      <th>2/16/20</th>\n",
              "      <th>2/17/20</th>\n",
              "      <th>2/18/20</th>\n",
              "      <th>2/19/20</th>\n",
              "      <th>2/20/20</th>\n",
              "      <th>2/21/20</th>\n",
              "      <th>2/22/20</th>\n",
              "      <th>2/23/20</th>\n",
              "      <th>2/24/20</th>\n",
              "      <th>2/25/20</th>\n",
              "      <th>2/26/20</th>\n",
              "      <th>2/27/20</th>\n",
              "      <th>2/28/20</th>\n",
              "      <th>2/29/20</th>\n",
              "      <th>...</th>\n",
              "      <th>4/19/20</th>\n",
              "      <th>4/20/20</th>\n",
              "      <th>4/21/20</th>\n",
              "      <th>4/22/20</th>\n",
              "      <th>4/23/20</th>\n",
              "      <th>4/24/20</th>\n",
              "      <th>4/25/20</th>\n",
              "      <th>4/26/20</th>\n",
              "      <th>4/27/20</th>\n",
              "      <th>4/28/20</th>\n",
              "      <th>4/29/20</th>\n",
              "      <th>4/30/20</th>\n",
              "      <th>05-01-20</th>\n",
              "      <th>05-02-20</th>\n",
              "      <th>05-03-20</th>\n",
              "      <th>05-04-20</th>\n",
              "      <th>05-05-20</th>\n",
              "      <th>05-06-20</th>\n",
              "      <th>05-07-20</th>\n",
              "      <th>05-08-20</th>\n",
              "      <th>05-09-20</th>\n",
              "      <th>05-10-20</th>\n",
              "      <th>05-11-20</th>\n",
              "      <th>05-12-20</th>\n",
              "      <th>5/13/20</th>\n",
              "      <th>5/14/20</th>\n",
              "      <th>5/15/20</th>\n",
              "      <th>5/16/20</th>\n",
              "      <th>5/17/20</th>\n",
              "      <th>5/18/20</th>\n",
              "      <th>5/19/20</th>\n",
              "      <th>5/20/20</th>\n",
              "      <th>5/21/20</th>\n",
              "      <th>5/22/20</th>\n",
              "      <th>5/23/20</th>\n",
              "      <th>5/24/20</th>\n",
              "      <th>5/25/20</th>\n",
              "      <th>5/26/20</th>\n",
              "      <th>5/27/20</th>\n",
              "      <th>Total Cases</th>\n",
              "    </tr>\n",
              "  </thead>\n",
              "  <tbody>\n",
              "    <tr>\n",
              "      <th>0</th>\n",
              "      <td>Afghanistan</td>\n",
              "      <td>0</td>\n",
              "      <td>0</td>\n",
              "      <td>0</td>\n",
              "      <td>0</td>\n",
              "      <td>0</td>\n",
              "      <td>0</td>\n",
              "      <td>0</td>\n",
              "      <td>0</td>\n",
              "      <td>0</td>\n",
              "      <td>0</td>\n",
              "      <td>0</td>\n",
              "      <td>0</td>\n",
              "      <td>0</td>\n",
              "      <td>0</td>\n",
              "      <td>0</td>\n",
              "      <td>0</td>\n",
              "      <td>0</td>\n",
              "      <td>0</td>\n",
              "      <td>0</td>\n",
              "      <td>0</td>\n",
              "      <td>0</td>\n",
              "      <td>0</td>\n",
              "      <td>0</td>\n",
              "      <td>0</td>\n",
              "      <td>0</td>\n",
              "      <td>0</td>\n",
              "      <td>0</td>\n",
              "      <td>0</td>\n",
              "      <td>0</td>\n",
              "      <td>0</td>\n",
              "      <td>0</td>\n",
              "      <td>0</td>\n",
              "      <td>0</td>\n",
              "      <td>1</td>\n",
              "      <td>1</td>\n",
              "      <td>1</td>\n",
              "      <td>1</td>\n",
              "      <td>1</td>\n",
              "      <td>1</td>\n",
              "      <td>...</td>\n",
              "      <td>996</td>\n",
              "      <td>1026</td>\n",
              "      <td>1092</td>\n",
              "      <td>1176</td>\n",
              "      <td>1279</td>\n",
              "      <td>1351</td>\n",
              "      <td>1463</td>\n",
              "      <td>1531</td>\n",
              "      <td>1703</td>\n",
              "      <td>1828</td>\n",
              "      <td>1939</td>\n",
              "      <td>2171</td>\n",
              "      <td>2335</td>\n",
              "      <td>2469</td>\n",
              "      <td>2704</td>\n",
              "      <td>2894</td>\n",
              "      <td>3224</td>\n",
              "      <td>3392</td>\n",
              "      <td>3563</td>\n",
              "      <td>3778</td>\n",
              "      <td>4033</td>\n",
              "      <td>4402</td>\n",
              "      <td>4687</td>\n",
              "      <td>4963</td>\n",
              "      <td>5226</td>\n",
              "      <td>5639</td>\n",
              "      <td>6053</td>\n",
              "      <td>6402</td>\n",
              "      <td>6664</td>\n",
              "      <td>7072</td>\n",
              "      <td>7653</td>\n",
              "      <td>8145</td>\n",
              "      <td>8676</td>\n",
              "      <td>9216</td>\n",
              "      <td>9998</td>\n",
              "      <td>10582</td>\n",
              "      <td>11173</td>\n",
              "      <td>11831</td>\n",
              "      <td>12456</td>\n",
              "      <td>197692</td>\n",
              "    </tr>\n",
              "    <tr>\n",
              "      <th>1</th>\n",
              "      <td>Albania</td>\n",
              "      <td>0</td>\n",
              "      <td>0</td>\n",
              "      <td>0</td>\n",
              "      <td>0</td>\n",
              "      <td>0</td>\n",
              "      <td>0</td>\n",
              "      <td>0</td>\n",
              "      <td>0</td>\n",
              "      <td>0</td>\n",
              "      <td>0</td>\n",
              "      <td>0</td>\n",
              "      <td>0</td>\n",
              "      <td>0</td>\n",
              "      <td>0</td>\n",
              "      <td>0</td>\n",
              "      <td>0</td>\n",
              "      <td>0</td>\n",
              "      <td>0</td>\n",
              "      <td>0</td>\n",
              "      <td>0</td>\n",
              "      <td>0</td>\n",
              "      <td>0</td>\n",
              "      <td>0</td>\n",
              "      <td>0</td>\n",
              "      <td>0</td>\n",
              "      <td>0</td>\n",
              "      <td>0</td>\n",
              "      <td>0</td>\n",
              "      <td>0</td>\n",
              "      <td>0</td>\n",
              "      <td>0</td>\n",
              "      <td>0</td>\n",
              "      <td>0</td>\n",
              "      <td>0</td>\n",
              "      <td>0</td>\n",
              "      <td>0</td>\n",
              "      <td>0</td>\n",
              "      <td>0</td>\n",
              "      <td>0</td>\n",
              "      <td>...</td>\n",
              "      <td>562</td>\n",
              "      <td>584</td>\n",
              "      <td>609</td>\n",
              "      <td>634</td>\n",
              "      <td>663</td>\n",
              "      <td>678</td>\n",
              "      <td>712</td>\n",
              "      <td>726</td>\n",
              "      <td>736</td>\n",
              "      <td>750</td>\n",
              "      <td>766</td>\n",
              "      <td>773</td>\n",
              "      <td>782</td>\n",
              "      <td>789</td>\n",
              "      <td>795</td>\n",
              "      <td>803</td>\n",
              "      <td>820</td>\n",
              "      <td>832</td>\n",
              "      <td>842</td>\n",
              "      <td>850</td>\n",
              "      <td>856</td>\n",
              "      <td>868</td>\n",
              "      <td>872</td>\n",
              "      <td>876</td>\n",
              "      <td>880</td>\n",
              "      <td>898</td>\n",
              "      <td>916</td>\n",
              "      <td>933</td>\n",
              "      <td>946</td>\n",
              "      <td>948</td>\n",
              "      <td>949</td>\n",
              "      <td>964</td>\n",
              "      <td>969</td>\n",
              "      <td>981</td>\n",
              "      <td>989</td>\n",
              "      <td>998</td>\n",
              "      <td>1004</td>\n",
              "      <td>1029</td>\n",
              "      <td>1050</td>\n",
              "      <td>42303</td>\n",
              "    </tr>\n",
              "    <tr>\n",
              "      <th>2</th>\n",
              "      <td>Algeria</td>\n",
              "      <td>0</td>\n",
              "      <td>0</td>\n",
              "      <td>0</td>\n",
              "      <td>0</td>\n",
              "      <td>0</td>\n",
              "      <td>0</td>\n",
              "      <td>0</td>\n",
              "      <td>0</td>\n",
              "      <td>0</td>\n",
              "      <td>0</td>\n",
              "      <td>0</td>\n",
              "      <td>0</td>\n",
              "      <td>0</td>\n",
              "      <td>0</td>\n",
              "      <td>0</td>\n",
              "      <td>0</td>\n",
              "      <td>0</td>\n",
              "      <td>0</td>\n",
              "      <td>0</td>\n",
              "      <td>0</td>\n",
              "      <td>0</td>\n",
              "      <td>0</td>\n",
              "      <td>0</td>\n",
              "      <td>0</td>\n",
              "      <td>0</td>\n",
              "      <td>0</td>\n",
              "      <td>0</td>\n",
              "      <td>0</td>\n",
              "      <td>0</td>\n",
              "      <td>0</td>\n",
              "      <td>0</td>\n",
              "      <td>0</td>\n",
              "      <td>0</td>\n",
              "      <td>0</td>\n",
              "      <td>1</td>\n",
              "      <td>1</td>\n",
              "      <td>1</td>\n",
              "      <td>1</td>\n",
              "      <td>1</td>\n",
              "      <td>...</td>\n",
              "      <td>2629</td>\n",
              "      <td>2718</td>\n",
              "      <td>2811</td>\n",
              "      <td>2910</td>\n",
              "      <td>3007</td>\n",
              "      <td>3127</td>\n",
              "      <td>3256</td>\n",
              "      <td>3382</td>\n",
              "      <td>3517</td>\n",
              "      <td>3649</td>\n",
              "      <td>3848</td>\n",
              "      <td>4006</td>\n",
              "      <td>4154</td>\n",
              "      <td>4295</td>\n",
              "      <td>4474</td>\n",
              "      <td>4648</td>\n",
              "      <td>4838</td>\n",
              "      <td>4997</td>\n",
              "      <td>5182</td>\n",
              "      <td>5369</td>\n",
              "      <td>5558</td>\n",
              "      <td>5723</td>\n",
              "      <td>5891</td>\n",
              "      <td>6067</td>\n",
              "      <td>6253</td>\n",
              "      <td>6442</td>\n",
              "      <td>6629</td>\n",
              "      <td>6821</td>\n",
              "      <td>7019</td>\n",
              "      <td>7201</td>\n",
              "      <td>7377</td>\n",
              "      <td>7542</td>\n",
              "      <td>7728</td>\n",
              "      <td>7918</td>\n",
              "      <td>8113</td>\n",
              "      <td>8306</td>\n",
              "      <td>8503</td>\n",
              "      <td>8697</td>\n",
              "      <td>8857</td>\n",
              "      <td>248927</td>\n",
              "    </tr>\n",
              "    <tr>\n",
              "      <th>3</th>\n",
              "      <td>Andorra</td>\n",
              "      <td>0</td>\n",
              "      <td>0</td>\n",
              "      <td>0</td>\n",
              "      <td>0</td>\n",
              "      <td>0</td>\n",
              "      <td>0</td>\n",
              "      <td>0</td>\n",
              "      <td>0</td>\n",
              "      <td>0</td>\n",
              "      <td>0</td>\n",
              "      <td>0</td>\n",
              "      <td>0</td>\n",
              "      <td>0</td>\n",
              "      <td>0</td>\n",
              "      <td>0</td>\n",
              "      <td>0</td>\n",
              "      <td>0</td>\n",
              "      <td>0</td>\n",
              "      <td>0</td>\n",
              "      <td>0</td>\n",
              "      <td>0</td>\n",
              "      <td>0</td>\n",
              "      <td>0</td>\n",
              "      <td>0</td>\n",
              "      <td>0</td>\n",
              "      <td>0</td>\n",
              "      <td>0</td>\n",
              "      <td>0</td>\n",
              "      <td>0</td>\n",
              "      <td>0</td>\n",
              "      <td>0</td>\n",
              "      <td>0</td>\n",
              "      <td>0</td>\n",
              "      <td>0</td>\n",
              "      <td>0</td>\n",
              "      <td>0</td>\n",
              "      <td>0</td>\n",
              "      <td>0</td>\n",
              "      <td>0</td>\n",
              "      <td>...</td>\n",
              "      <td>713</td>\n",
              "      <td>717</td>\n",
              "      <td>717</td>\n",
              "      <td>723</td>\n",
              "      <td>723</td>\n",
              "      <td>731</td>\n",
              "      <td>738</td>\n",
              "      <td>738</td>\n",
              "      <td>743</td>\n",
              "      <td>743</td>\n",
              "      <td>743</td>\n",
              "      <td>745</td>\n",
              "      <td>745</td>\n",
              "      <td>747</td>\n",
              "      <td>748</td>\n",
              "      <td>750</td>\n",
              "      <td>751</td>\n",
              "      <td>751</td>\n",
              "      <td>752</td>\n",
              "      <td>752</td>\n",
              "      <td>754</td>\n",
              "      <td>755</td>\n",
              "      <td>755</td>\n",
              "      <td>758</td>\n",
              "      <td>760</td>\n",
              "      <td>761</td>\n",
              "      <td>761</td>\n",
              "      <td>761</td>\n",
              "      <td>761</td>\n",
              "      <td>761</td>\n",
              "      <td>761</td>\n",
              "      <td>762</td>\n",
              "      <td>762</td>\n",
              "      <td>762</td>\n",
              "      <td>762</td>\n",
              "      <td>762</td>\n",
              "      <td>763</td>\n",
              "      <td>763</td>\n",
              "      <td>763</td>\n",
              "      <td>42336</td>\n",
              "    </tr>\n",
              "    <tr>\n",
              "      <th>4</th>\n",
              "      <td>Angola</td>\n",
              "      <td>0</td>\n",
              "      <td>0</td>\n",
              "      <td>0</td>\n",
              "      <td>0</td>\n",
              "      <td>0</td>\n",
              "      <td>0</td>\n",
              "      <td>0</td>\n",
              "      <td>0</td>\n",
              "      <td>0</td>\n",
              "      <td>0</td>\n",
              "      <td>0</td>\n",
              "      <td>0</td>\n",
              "      <td>0</td>\n",
              "      <td>0</td>\n",
              "      <td>0</td>\n",
              "      <td>0</td>\n",
              "      <td>0</td>\n",
              "      <td>0</td>\n",
              "      <td>0</td>\n",
              "      <td>0</td>\n",
              "      <td>0</td>\n",
              "      <td>0</td>\n",
              "      <td>0</td>\n",
              "      <td>0</td>\n",
              "      <td>0</td>\n",
              "      <td>0</td>\n",
              "      <td>0</td>\n",
              "      <td>0</td>\n",
              "      <td>0</td>\n",
              "      <td>0</td>\n",
              "      <td>0</td>\n",
              "      <td>0</td>\n",
              "      <td>0</td>\n",
              "      <td>0</td>\n",
              "      <td>0</td>\n",
              "      <td>0</td>\n",
              "      <td>0</td>\n",
              "      <td>0</td>\n",
              "      <td>0</td>\n",
              "      <td>...</td>\n",
              "      <td>24</td>\n",
              "      <td>24</td>\n",
              "      <td>24</td>\n",
              "      <td>25</td>\n",
              "      <td>25</td>\n",
              "      <td>25</td>\n",
              "      <td>25</td>\n",
              "      <td>26</td>\n",
              "      <td>27</td>\n",
              "      <td>27</td>\n",
              "      <td>27</td>\n",
              "      <td>27</td>\n",
              "      <td>30</td>\n",
              "      <td>35</td>\n",
              "      <td>35</td>\n",
              "      <td>35</td>\n",
              "      <td>36</td>\n",
              "      <td>36</td>\n",
              "      <td>36</td>\n",
              "      <td>43</td>\n",
              "      <td>43</td>\n",
              "      <td>45</td>\n",
              "      <td>45</td>\n",
              "      <td>45</td>\n",
              "      <td>45</td>\n",
              "      <td>48</td>\n",
              "      <td>48</td>\n",
              "      <td>48</td>\n",
              "      <td>48</td>\n",
              "      <td>50</td>\n",
              "      <td>52</td>\n",
              "      <td>52</td>\n",
              "      <td>58</td>\n",
              "      <td>60</td>\n",
              "      <td>61</td>\n",
              "      <td>69</td>\n",
              "      <td>70</td>\n",
              "      <td>70</td>\n",
              "      <td>71</td>\n",
              "      <td>1963</td>\n",
              "    </tr>\n",
              "    <tr>\n",
              "      <th>...</th>\n",
              "      <td>...</td>\n",
              "      <td>...</td>\n",
              "      <td>...</td>\n",
              "      <td>...</td>\n",
              "      <td>...</td>\n",
              "      <td>...</td>\n",
              "      <td>...</td>\n",
              "      <td>...</td>\n",
              "      <td>...</td>\n",
              "      <td>...</td>\n",
              "      <td>...</td>\n",
              "      <td>...</td>\n",
              "      <td>...</td>\n",
              "      <td>...</td>\n",
              "      <td>...</td>\n",
              "      <td>...</td>\n",
              "      <td>...</td>\n",
              "      <td>...</td>\n",
              "      <td>...</td>\n",
              "      <td>...</td>\n",
              "      <td>...</td>\n",
              "      <td>...</td>\n",
              "      <td>...</td>\n",
              "      <td>...</td>\n",
              "      <td>...</td>\n",
              "      <td>...</td>\n",
              "      <td>...</td>\n",
              "      <td>...</td>\n",
              "      <td>...</td>\n",
              "      <td>...</td>\n",
              "      <td>...</td>\n",
              "      <td>...</td>\n",
              "      <td>...</td>\n",
              "      <td>...</td>\n",
              "      <td>...</td>\n",
              "      <td>...</td>\n",
              "      <td>...</td>\n",
              "      <td>...</td>\n",
              "      <td>...</td>\n",
              "      <td>...</td>\n",
              "      <td>...</td>\n",
              "      <td>...</td>\n",
              "      <td>...</td>\n",
              "      <td>...</td>\n",
              "      <td>...</td>\n",
              "      <td>...</td>\n",
              "      <td>...</td>\n",
              "      <td>...</td>\n",
              "      <td>...</td>\n",
              "      <td>...</td>\n",
              "      <td>...</td>\n",
              "      <td>...</td>\n",
              "      <td>...</td>\n",
              "      <td>...</td>\n",
              "      <td>...</td>\n",
              "      <td>...</td>\n",
              "      <td>...</td>\n",
              "      <td>...</td>\n",
              "      <td>...</td>\n",
              "      <td>...</td>\n",
              "      <td>...</td>\n",
              "      <td>...</td>\n",
              "      <td>...</td>\n",
              "      <td>...</td>\n",
              "      <td>...</td>\n",
              "      <td>...</td>\n",
              "      <td>...</td>\n",
              "      <td>...</td>\n",
              "      <td>...</td>\n",
              "      <td>...</td>\n",
              "      <td>...</td>\n",
              "      <td>...</td>\n",
              "      <td>...</td>\n",
              "      <td>...</td>\n",
              "      <td>...</td>\n",
              "      <td>...</td>\n",
              "      <td>...</td>\n",
              "      <td>...</td>\n",
              "      <td>...</td>\n",
              "      <td>...</td>\n",
              "      <td>...</td>\n",
              "    </tr>\n",
              "    <tr>\n",
              "      <th>261</th>\n",
              "      <td>Sao Tome and Principe</td>\n",
              "      <td>0</td>\n",
              "      <td>0</td>\n",
              "      <td>0</td>\n",
              "      <td>0</td>\n",
              "      <td>0</td>\n",
              "      <td>0</td>\n",
              "      <td>0</td>\n",
              "      <td>0</td>\n",
              "      <td>0</td>\n",
              "      <td>0</td>\n",
              "      <td>0</td>\n",
              "      <td>0</td>\n",
              "      <td>0</td>\n",
              "      <td>0</td>\n",
              "      <td>0</td>\n",
              "      <td>0</td>\n",
              "      <td>0</td>\n",
              "      <td>0</td>\n",
              "      <td>0</td>\n",
              "      <td>0</td>\n",
              "      <td>0</td>\n",
              "      <td>0</td>\n",
              "      <td>0</td>\n",
              "      <td>0</td>\n",
              "      <td>0</td>\n",
              "      <td>0</td>\n",
              "      <td>0</td>\n",
              "      <td>0</td>\n",
              "      <td>0</td>\n",
              "      <td>0</td>\n",
              "      <td>0</td>\n",
              "      <td>0</td>\n",
              "      <td>0</td>\n",
              "      <td>0</td>\n",
              "      <td>0</td>\n",
              "      <td>0</td>\n",
              "      <td>0</td>\n",
              "      <td>0</td>\n",
              "      <td>0</td>\n",
              "      <td>...</td>\n",
              "      <td>4</td>\n",
              "      <td>4</td>\n",
              "      <td>4</td>\n",
              "      <td>4</td>\n",
              "      <td>4</td>\n",
              "      <td>4</td>\n",
              "      <td>4</td>\n",
              "      <td>4</td>\n",
              "      <td>4</td>\n",
              "      <td>8</td>\n",
              "      <td>8</td>\n",
              "      <td>14</td>\n",
              "      <td>16</td>\n",
              "      <td>16</td>\n",
              "      <td>16</td>\n",
              "      <td>23</td>\n",
              "      <td>174</td>\n",
              "      <td>174</td>\n",
              "      <td>187</td>\n",
              "      <td>208</td>\n",
              "      <td>208</td>\n",
              "      <td>208</td>\n",
              "      <td>208</td>\n",
              "      <td>208</td>\n",
              "      <td>220</td>\n",
              "      <td>235</td>\n",
              "      <td>235</td>\n",
              "      <td>235</td>\n",
              "      <td>235</td>\n",
              "      <td>246</td>\n",
              "      <td>251</td>\n",
              "      <td>251</td>\n",
              "      <td>251</td>\n",
              "      <td>251</td>\n",
              "      <td>251</td>\n",
              "      <td>251</td>\n",
              "      <td>299</td>\n",
              "      <td>441</td>\n",
              "      <td>443</td>\n",
              "      <td>5859</td>\n",
              "    </tr>\n",
              "    <tr>\n",
              "      <th>262</th>\n",
              "      <td>Yemen</td>\n",
              "      <td>0</td>\n",
              "      <td>0</td>\n",
              "      <td>0</td>\n",
              "      <td>0</td>\n",
              "      <td>0</td>\n",
              "      <td>0</td>\n",
              "      <td>0</td>\n",
              "      <td>0</td>\n",
              "      <td>0</td>\n",
              "      <td>0</td>\n",
              "      <td>0</td>\n",
              "      <td>0</td>\n",
              "      <td>0</td>\n",
              "      <td>0</td>\n",
              "      <td>0</td>\n",
              "      <td>0</td>\n",
              "      <td>0</td>\n",
              "      <td>0</td>\n",
              "      <td>0</td>\n",
              "      <td>0</td>\n",
              "      <td>0</td>\n",
              "      <td>0</td>\n",
              "      <td>0</td>\n",
              "      <td>0</td>\n",
              "      <td>0</td>\n",
              "      <td>0</td>\n",
              "      <td>0</td>\n",
              "      <td>0</td>\n",
              "      <td>0</td>\n",
              "      <td>0</td>\n",
              "      <td>0</td>\n",
              "      <td>0</td>\n",
              "      <td>0</td>\n",
              "      <td>0</td>\n",
              "      <td>0</td>\n",
              "      <td>0</td>\n",
              "      <td>0</td>\n",
              "      <td>0</td>\n",
              "      <td>0</td>\n",
              "      <td>...</td>\n",
              "      <td>1</td>\n",
              "      <td>1</td>\n",
              "      <td>1</td>\n",
              "      <td>1</td>\n",
              "      <td>1</td>\n",
              "      <td>1</td>\n",
              "      <td>1</td>\n",
              "      <td>1</td>\n",
              "      <td>1</td>\n",
              "      <td>1</td>\n",
              "      <td>6</td>\n",
              "      <td>6</td>\n",
              "      <td>7</td>\n",
              "      <td>10</td>\n",
              "      <td>10</td>\n",
              "      <td>12</td>\n",
              "      <td>22</td>\n",
              "      <td>25</td>\n",
              "      <td>25</td>\n",
              "      <td>34</td>\n",
              "      <td>34</td>\n",
              "      <td>51</td>\n",
              "      <td>56</td>\n",
              "      <td>65</td>\n",
              "      <td>70</td>\n",
              "      <td>85</td>\n",
              "      <td>106</td>\n",
              "      <td>122</td>\n",
              "      <td>128</td>\n",
              "      <td>130</td>\n",
              "      <td>167</td>\n",
              "      <td>184</td>\n",
              "      <td>197</td>\n",
              "      <td>209</td>\n",
              "      <td>212</td>\n",
              "      <td>222</td>\n",
              "      <td>233</td>\n",
              "      <td>249</td>\n",
              "      <td>256</td>\n",
              "      <td>2952</td>\n",
              "    </tr>\n",
              "    <tr>\n",
              "      <th>263</th>\n",
              "      <td>Comoros</td>\n",
              "      <td>0</td>\n",
              "      <td>0</td>\n",
              "      <td>0</td>\n",
              "      <td>0</td>\n",
              "      <td>0</td>\n",
              "      <td>0</td>\n",
              "      <td>0</td>\n",
              "      <td>0</td>\n",
              "      <td>0</td>\n",
              "      <td>0</td>\n",
              "      <td>0</td>\n",
              "      <td>0</td>\n",
              "      <td>0</td>\n",
              "      <td>0</td>\n",
              "      <td>0</td>\n",
              "      <td>0</td>\n",
              "      <td>0</td>\n",
              "      <td>0</td>\n",
              "      <td>0</td>\n",
              "      <td>0</td>\n",
              "      <td>0</td>\n",
              "      <td>0</td>\n",
              "      <td>0</td>\n",
              "      <td>0</td>\n",
              "      <td>0</td>\n",
              "      <td>0</td>\n",
              "      <td>0</td>\n",
              "      <td>0</td>\n",
              "      <td>0</td>\n",
              "      <td>0</td>\n",
              "      <td>0</td>\n",
              "      <td>0</td>\n",
              "      <td>0</td>\n",
              "      <td>0</td>\n",
              "      <td>0</td>\n",
              "      <td>0</td>\n",
              "      <td>0</td>\n",
              "      <td>0</td>\n",
              "      <td>0</td>\n",
              "      <td>...</td>\n",
              "      <td>0</td>\n",
              "      <td>0</td>\n",
              "      <td>0</td>\n",
              "      <td>0</td>\n",
              "      <td>0</td>\n",
              "      <td>0</td>\n",
              "      <td>0</td>\n",
              "      <td>0</td>\n",
              "      <td>0</td>\n",
              "      <td>0</td>\n",
              "      <td>0</td>\n",
              "      <td>1</td>\n",
              "      <td>1</td>\n",
              "      <td>3</td>\n",
              "      <td>3</td>\n",
              "      <td>3</td>\n",
              "      <td>3</td>\n",
              "      <td>8</td>\n",
              "      <td>8</td>\n",
              "      <td>8</td>\n",
              "      <td>11</td>\n",
              "      <td>11</td>\n",
              "      <td>11</td>\n",
              "      <td>11</td>\n",
              "      <td>11</td>\n",
              "      <td>11</td>\n",
              "      <td>11</td>\n",
              "      <td>11</td>\n",
              "      <td>11</td>\n",
              "      <td>11</td>\n",
              "      <td>11</td>\n",
              "      <td>34</td>\n",
              "      <td>34</td>\n",
              "      <td>78</td>\n",
              "      <td>78</td>\n",
              "      <td>87</td>\n",
              "      <td>87</td>\n",
              "      <td>87</td>\n",
              "      <td>87</td>\n",
              "      <td>731</td>\n",
              "    </tr>\n",
              "    <tr>\n",
              "      <th>264</th>\n",
              "      <td>Tajikistan</td>\n",
              "      <td>0</td>\n",
              "      <td>0</td>\n",
              "      <td>0</td>\n",
              "      <td>0</td>\n",
              "      <td>0</td>\n",
              "      <td>0</td>\n",
              "      <td>0</td>\n",
              "      <td>0</td>\n",
              "      <td>0</td>\n",
              "      <td>0</td>\n",
              "      <td>0</td>\n",
              "      <td>0</td>\n",
              "      <td>0</td>\n",
              "      <td>0</td>\n",
              "      <td>0</td>\n",
              "      <td>0</td>\n",
              "      <td>0</td>\n",
              "      <td>0</td>\n",
              "      <td>0</td>\n",
              "      <td>0</td>\n",
              "      <td>0</td>\n",
              "      <td>0</td>\n",
              "      <td>0</td>\n",
              "      <td>0</td>\n",
              "      <td>0</td>\n",
              "      <td>0</td>\n",
              "      <td>0</td>\n",
              "      <td>0</td>\n",
              "      <td>0</td>\n",
              "      <td>0</td>\n",
              "      <td>0</td>\n",
              "      <td>0</td>\n",
              "      <td>0</td>\n",
              "      <td>0</td>\n",
              "      <td>0</td>\n",
              "      <td>0</td>\n",
              "      <td>0</td>\n",
              "      <td>0</td>\n",
              "      <td>0</td>\n",
              "      <td>...</td>\n",
              "      <td>0</td>\n",
              "      <td>0</td>\n",
              "      <td>0</td>\n",
              "      <td>0</td>\n",
              "      <td>0</td>\n",
              "      <td>0</td>\n",
              "      <td>0</td>\n",
              "      <td>0</td>\n",
              "      <td>0</td>\n",
              "      <td>0</td>\n",
              "      <td>0</td>\n",
              "      <td>15</td>\n",
              "      <td>15</td>\n",
              "      <td>76</td>\n",
              "      <td>128</td>\n",
              "      <td>230</td>\n",
              "      <td>293</td>\n",
              "      <td>379</td>\n",
              "      <td>461</td>\n",
              "      <td>522</td>\n",
              "      <td>612</td>\n",
              "      <td>612</td>\n",
              "      <td>661</td>\n",
              "      <td>729</td>\n",
              "      <td>801</td>\n",
              "      <td>907</td>\n",
              "      <td>1118</td>\n",
              "      <td>1322</td>\n",
              "      <td>1524</td>\n",
              "      <td>1729</td>\n",
              "      <td>1936</td>\n",
              "      <td>2140</td>\n",
              "      <td>2350</td>\n",
              "      <td>2551</td>\n",
              "      <td>2738</td>\n",
              "      <td>2929</td>\n",
              "      <td>3100</td>\n",
              "      <td>3266</td>\n",
              "      <td>3424</td>\n",
              "      <td>36568</td>\n",
              "    </tr>\n",
              "    <tr>\n",
              "      <th>265</th>\n",
              "      <td>Lesotho</td>\n",
              "      <td>0</td>\n",
              "      <td>0</td>\n",
              "      <td>0</td>\n",
              "      <td>0</td>\n",
              "      <td>0</td>\n",
              "      <td>0</td>\n",
              "      <td>0</td>\n",
              "      <td>0</td>\n",
              "      <td>0</td>\n",
              "      <td>0</td>\n",
              "      <td>0</td>\n",
              "      <td>0</td>\n",
              "      <td>0</td>\n",
              "      <td>0</td>\n",
              "      <td>0</td>\n",
              "      <td>0</td>\n",
              "      <td>0</td>\n",
              "      <td>0</td>\n",
              "      <td>0</td>\n",
              "      <td>0</td>\n",
              "      <td>0</td>\n",
              "      <td>0</td>\n",
              "      <td>0</td>\n",
              "      <td>0</td>\n",
              "      <td>0</td>\n",
              "      <td>0</td>\n",
              "      <td>0</td>\n",
              "      <td>0</td>\n",
              "      <td>0</td>\n",
              "      <td>0</td>\n",
              "      <td>0</td>\n",
              "      <td>0</td>\n",
              "      <td>0</td>\n",
              "      <td>0</td>\n",
              "      <td>0</td>\n",
              "      <td>0</td>\n",
              "      <td>0</td>\n",
              "      <td>0</td>\n",
              "      <td>0</td>\n",
              "      <td>...</td>\n",
              "      <td>0</td>\n",
              "      <td>0</td>\n",
              "      <td>0</td>\n",
              "      <td>0</td>\n",
              "      <td>0</td>\n",
              "      <td>0</td>\n",
              "      <td>0</td>\n",
              "      <td>0</td>\n",
              "      <td>0</td>\n",
              "      <td>0</td>\n",
              "      <td>0</td>\n",
              "      <td>0</td>\n",
              "      <td>0</td>\n",
              "      <td>0</td>\n",
              "      <td>0</td>\n",
              "      <td>0</td>\n",
              "      <td>0</td>\n",
              "      <td>0</td>\n",
              "      <td>0</td>\n",
              "      <td>0</td>\n",
              "      <td>0</td>\n",
              "      <td>0</td>\n",
              "      <td>0</td>\n",
              "      <td>0</td>\n",
              "      <td>1</td>\n",
              "      <td>1</td>\n",
              "      <td>1</td>\n",
              "      <td>1</td>\n",
              "      <td>1</td>\n",
              "      <td>1</td>\n",
              "      <td>1</td>\n",
              "      <td>1</td>\n",
              "      <td>1</td>\n",
              "      <td>2</td>\n",
              "      <td>2</td>\n",
              "      <td>2</td>\n",
              "      <td>2</td>\n",
              "      <td>2</td>\n",
              "      <td>2</td>\n",
              "      <td>21</td>\n",
              "    </tr>\n",
              "  </tbody>\n",
              "</table>\n",
              "<p>266 rows × 129 columns</p>\n",
              "</div>"
            ],
            "text/plain": [
              "            Country/Region  1/22/20  1/23/20  ...  5/26/20  5/27/20  Total Cases\n",
              "0              Afghanistan        0        0  ...    11831    12456       197692\n",
              "1                  Albania        0        0  ...     1029     1050        42303\n",
              "2                  Algeria        0        0  ...     8697     8857       248927\n",
              "3                  Andorra        0        0  ...      763      763        42336\n",
              "4                   Angola        0        0  ...       70       71         1963\n",
              "..                     ...      ...      ...  ...      ...      ...          ...\n",
              "261  Sao Tome and Principe        0        0  ...      441      443         5859\n",
              "262                  Yemen        0        0  ...      249      256         2952\n",
              "263                Comoros        0        0  ...       87       87          731\n",
              "264             Tajikistan        0        0  ...     3266     3424        36568\n",
              "265                Lesotho        0        0  ...        2        2           21\n",
              "\n",
              "[266 rows x 129 columns]"
            ]
          },
          "metadata": {
            "tags": []
          },
          "execution_count": 49
        }
      ]
    },
    {
      "cell_type": "code",
      "metadata": {
        "id": "B8F_IDka_VtU"
      },
      "source": [
        "#adding all cases for each country\n",
        "country_list = time_series_init['Country/Region'].unique()\n",
        "cons_by_country = []\n",
        "for c in country_list:\n",
        "  cons = time_series_init.loc[time_series_init['Country/Region'] == c, 'Total Cases'].sum()\n",
        "  cons_by_country.append([c, cons])\n",
        "\n",
        "cons_by_country = sorted(cons_by_country, key = lambda x: x[1], reverse=True)\n",
        "\n",
        "#dataframe containing countries and their total cases\n",
        "cons = pd.DataFrame(data=cons_by_country, columns=[\"Country/Region\", \"Total Cases\"])\n",
        "\n",
        "#finding the difference of cases of all countries from cases of Pakistan\n",
        "cons['difference'] = cons['Total Cases'] - cons.loc[cons['Country/Region'] == 'Pakistan', 'Total Cases'].item()"
      ],
      "execution_count": null,
      "outputs": []
    },
    {
      "cell_type": "code",
      "metadata": {
        "id": "MBHsFsG0H2Ho",
        "colab": {
          "base_uri": "https://localhost:8080/",
          "height": 1000
        },
        "outputId": "6cef707e-0126-4e5b-c37e-20d8ee53120d"
      },
      "source": [
        "#sorting to find the closest countries\n",
        "cons.sort_values('difference')\n",
        "with pd.option_context('display.max_rows', None, 'display.max_columns', None):\n",
        "    print(cons)"
      ],
      "execution_count": null,
      "outputs": [
        {
          "output_type": "stream",
          "text": [
            "                       Country/Region  Total Cases  difference\n",
            "0                                  US     58797943    57551165\n",
            "1                               Italy     12127486    10880708\n",
            "2                               Spain     12126950    10880172\n",
            "3                      United Kingdom      9419156     8172378\n",
            "4                             Germany      9227781     7981003\n",
            "5                               China      8955716     7708938\n",
            "6                              France      8930573     7683795\n",
            "7                              Russia      7829722     6582944\n",
            "8                              Brazil      7113230     5866452\n",
            "9                              Turkey      6028548     4781770\n",
            "10                               Iran      5920456     4673678\n",
            "11                             Canada      2986824     1740046\n",
            "12                              India      2835126     1588348\n",
            "13                               Peru      2660991     1414213\n",
            "14                            Belgium      2538548     1291770\n",
            "15                        Netherlands      2121139      874361\n",
            "16                        Switzerland      1743652      496874\n",
            "17                       Saudi Arabia      1604026      357248\n",
            "18                             Mexico      1453783      207005\n",
            "19                              Chile      1405019      158241\n",
            "20                           Portugal      1343228       96450\n",
            "21                           Pakistan      1246778           0\n",
            "22                            Ecuador      1212233      -34545\n",
            "23                             Sweden      1187147      -59631\n",
            "24                            Ireland      1020210     -226568\n",
            "25                              Qatar       955828     -290950\n",
            "26                            Austria       935843     -310935\n",
            "27                          Singapore       890579     -356199\n",
            "28                            Belarus       874531     -372247\n",
            "29                       Korea, South       869658     -377120\n",
            "30                             Israel       839729     -407049\n",
            "31               United Arab Emirates       766150     -480628\n",
            "32                             Poland       726821     -519957\n",
            "33                              Japan       712028     -534750\n",
            "34                            Romania       669197     -577581\n",
            "35                         Bangladesh       627214     -619564\n",
            "36                          Indonesia       621115     -625663\n",
            "37                            Ukraine       592008     -654770\n",
            "38                            Denmark       527889     -718889\n",
            "39                        Philippines       494125     -752653\n",
            "40                           Colombia       490195     -756583\n",
            "41                       South Africa       475298     -771480\n",
            "42                             Norway       472038     -774740\n",
            "43                            Czechia       436130     -810648\n",
            "44                             Serbia       435361     -811417\n",
            "45                 Dominican Republic       431681     -815097\n",
            "46                          Australia       413236     -833542\n",
            "47                              Egypt       403226     -843552\n",
            "48                             Kuwait       398978     -847800\n",
            "49                             Panama       365621     -881157\n",
            "50                           Malaysia       357080     -889698\n",
            "51                          Argentina       296475     -950303\n",
            "52                            Finland       276303     -970475\n",
            "53                            Algeria       248927     -997851\n",
            "54                            Morocco       248019     -998759\n",
            "55                            Bahrain       224418    -1022360\n",
            "56                         Luxembourg       222184    -1024594\n",
            "57                            Moldova       216917    -1029861\n",
            "58                         Kazakhstan       210168    -1036610\n",
            "59                        Afghanistan       197692    -1049086\n",
            "60                           Thailand       173059    -1073719\n",
            "61                            Nigeria       162983    -1083795\n",
            "62                               Oman       162429    -1084349\n",
            "63                              Ghana       159001    -1087777\n",
            "64                            Armenia       156954    -1089824\n",
            "65                             Greece       152463    -1094315\n",
            "66                            Hungary       143687    -1103091\n",
            "67                               Iraq       137229    -1109549\n",
            "68                           Cameroon       118388    -1128390\n",
            "69                         Azerbaijan       118353    -1128425\n",
            "70                            Bolivia       116462    -1130316\n",
            "71                            Croatia       115220    -1131558\n",
            "72                            Iceland       110084    -1136694\n",
            "73                         Uzbekistan       107630    -1139148\n",
            "74                            Estonia        95989    -1150789\n",
            "75             Bosnia and Herzegovina        95099    -1151679\n",
            "76                           Bulgaria        85220    -1161558\n",
            "77                           Slovenia        84594    -1162184\n",
            "78                        New Zealand        82911    -1163867\n",
            "79                             Guinea        82281    -1164497\n",
            "80                           Honduras        80634    -1166144\n",
            "81                    North Macedonia        78428    -1168350\n",
            "82                          Lithuania        78019    -1168759\n",
            "83                               Cuba        75350    -1171428\n",
            "84                      Cote d'Ivoire        74030    -1172748\n",
            "85                   Diamond Princess        72628    -1174150\n",
            "86                            Senegal        71766    -1175012\n",
            "87                           Slovakia        71374    -1175404\n",
            "88                              Sudan        59331    -1187447\n",
            "89                           Djibouti        58286    -1188492\n",
            "90                          Guatemala        55966    -1190812\n",
            "91                            Tunisia        53452    -1193326\n",
            "92                             Latvia        49572    -1197206\n",
            "93                            Lebanon        48584    -1198194\n",
            "94                             Cyprus        46373    -1200405\n",
            "95                   Congo (Kinshasa)        45980    -1200798\n",
            "96                         Kyrgyzstan        43571    -1203207\n",
            "97                         Costa Rica        43425    -1203353\n",
            "98                            Andorra        42336    -1204442\n",
            "99                            Albania        42303    -1204475\n",
            "100                            Kosovo        38763    -1208015\n",
            "101                           Somalia        38569    -1208209\n",
            "102                             Niger        38363    -1208415\n",
            "103                      Burkina Faso        37756    -1209022\n",
            "104                           Uruguay        37614    -1209164\n",
            "105                       El Salvador        37367    -1209411\n",
            "106                        Tajikistan        36568    -1210210\n",
            "107                         Sri Lanka        36217    -1210561\n",
            "108                             Gabon        33723    -1213055\n",
            "109                        San Marino        32678    -1214100\n",
            "110                             Kenya        30193    -1216585\n",
            "111                            Jordan        30107    -1216671\n",
            "112                           Georgia        28934    -1217844\n",
            "113                          Maldives        28933    -1217845\n",
            "114                           Taiwan*        28291    -1218487\n",
            "115                              Mali        27555    -1219223\n",
            "116                             Malta        27258    -1219520\n",
            "117                         Venezuela        24868    -1221910\n",
            "118                          Paraguay        24144    -1222634\n",
            "119                     Guinea-Bissau        23501    -1223277\n",
            "120                West Bank and Gaza        20405    -1226373\n",
            "121                 Equatorial Guinea        19878    -1226900\n",
            "122                           Jamaica        19165    -1227613\n",
            "123                           Vietnam        18862    -1227916\n",
            "124                         Mauritius        18727    -1228051\n",
            "125                          Tanzania        18278    -1228500\n",
            "126                        Montenegro        17631    -1229147\n",
            "127                            Zambia        16342    -1230436\n",
            "128               Congo (Brazzaville)        13297    -1233481\n",
            "129                             Haiti        13068    -1233710\n",
            "130                            Rwanda        12751    -1234027\n",
            "131                      Sierra Leone        12552    -1234226\n",
            "132                              Chad        11861    -1234917\n",
            "133                          Ethiopia        11500    -1235278\n",
            "134                        Madagascar        11326    -1235452\n",
            "135                            Brunei         9567    -1237211\n",
            "136                              Togo         9300    -1237478\n",
            "137                             Nepal         9163    -1237615\n",
            "138                        Cabo Verde         9157    -1237621\n",
            "139                       South Sudan         8265    -1238513\n",
            "140          Central African Republic         8222    -1238556\n",
            "141                          Cambodia         8148    -1238630\n",
            "142                           Liberia         7885    -1238893\n",
            "143                             Burma         7382    -1239396\n",
            "144               Trinidad and Tobago         7204    -1239574\n",
            "145                             Benin         6922    -1239856\n",
            "146                            Uganda         6469    -1240309\n",
            "147                          Eswatini         5929    -1240849\n",
            "148             Sao Tome and Principe         5859    -1240919\n",
            "149                            Monaco         5639    -1241139\n",
            "150                     Liechtenstein         5279    -1241499\n",
            "151                            Guyana         4715    -1242063\n",
            "152                          Barbados         4655    -1242123\n",
            "153                        Mozambique         4534    -1242244\n",
            "154                           Bahamas         4203    -1242575\n",
            "155                         Nicaragua         4068    -1242710\n",
            "156                          Mongolia         3345    -1243433\n",
            "157                             Libya         3044    -1243734\n",
            "158                             Yemen         2952    -1243826\n",
            "159                             Syria         2568    -1244210\n",
            "160                        Mauritania         2525    -1244253\n",
            "161                            Malawi         2236    -1244542\n",
            "162                           Eritrea         2145    -1244633\n",
            "163                            Angola         1963    -1244815\n",
            "164                          Zimbabwe         1892    -1244886\n",
            "165               Antigua and Barbuda         1353    -1245425\n",
            "166                          Botswana         1147    -1245631\n",
            "167                              Laos         1066    -1245712\n",
            "168                           Grenada         1063    -1245715\n",
            "169                           Namibia         1031    -1245747\n",
            "170                       Timor-Leste         1023    -1245755\n",
            "171                              Fiji          997    -1245781\n",
            "172                       Saint Lucia          992    -1245786\n",
            "173                          Dominica          971    -1245807\n",
            "174                            Belize          915    -1245863\n",
            "175                           Burundi          864    -1245914\n",
            "176                            Gambia          848    -1245930\n",
            "177             Saint Kitts and Nevis          815    -1245963\n",
            "178  Saint Vincent and the Grenadines          811    -1245967\n",
            "179                        Seychelles          733    -1246045\n",
            "180                           Comoros          731    -1246047\n",
            "181                          Suriname          669    -1246109\n",
            "182                            Bhutan          636    -1246142\n",
            "183                          Holy See          624    -1246154\n",
            "184                        MS Zaandam          521    -1246257\n",
            "185                  Papua New Guinea          367    -1246411\n",
            "186                    Western Sahara          316    -1246462\n",
            "187                           Lesotho           21    -1246757\n"
          ],
          "name": "stdout"
        }
      ]
    },
    {
      "cell_type": "markdown",
      "metadata": {
        "id": "TrlnQvpALFBS"
      },
      "source": [
        "As we can see from the differences above, the following 5 countries have the most similar amount of cases per number of days as of Pakistan:\n",
        "\n",
        "*   Mexico\n",
        "*   Chile\n",
        "*   Portugal\n",
        "*   Ecuador\n",
        "*   Sweden\n",
        "\n"
      ]
    },
    {
      "cell_type": "markdown",
      "metadata": {
        "id": "kqlgioJvL7k_"
      },
      "source": [
        "# Processing time series data for prediction"
      ]
    },
    {
      "cell_type": "code",
      "metadata": {
        "id": "zGkubiDr1dPl"
      },
      "source": [
        "dataset = pd.read_csv('time_series_covid_19_confirmed.csv', index_col='Country/Region')\n",
        "dataset.drop(columns=['Lat', 'Long', 'Province/State'], inplace=True)"
      ],
      "execution_count": null,
      "outputs": []
    },
    {
      "cell_type": "code",
      "metadata": {
        "id": "fScDTxVFLx80"
      },
      "source": [
        "#making data arrays for each country, each array entry refers to the total new cases reported on that day\n",
        "mexico_data = dataset.loc['Mexico'].values.astype(int)\n",
        "chile_data = dataset.loc['Chile'].values.astype(int)\n",
        "portugal_data = dataset.loc['Portugal'].values.astype(int)\n",
        "ecuador_data = dataset.loc['Ecuador'].values.astype(int)\n",
        "sweden_data = dataset.loc['Sweden'].values.astype(int)\n",
        "pakistan_data = dataset.loc['Pakistan'].values.astype(int)"
      ],
      "execution_count": null,
      "outputs": []
    },
    {
      "cell_type": "code",
      "metadata": {
        "id": "xYkGJmtwJ97Z"
      },
      "source": [
        "#splitting train-test data\n",
        "train_mexico = mexico_data[:-18]\n",
        "test_mexico = mexico_data[-18:]\n",
        "\n",
        "train_chile = chile_data[:-18]\n",
        "test_chile = chile_data[-18:]\n",
        "\n",
        "train_portugal = portugal_data[:-18]\n",
        "test_portugal = portugal_data[-18:]\n",
        "\n",
        "train_ecuador = ecuador_data[:-18]\n",
        "test_ecuador = ecuador_data[-18:]\n",
        "\n",
        "train_sweden = sweden_data[:-18]\n",
        "test_sweden = sweden_data[-18:]\n",
        "\n",
        "train_pakistan = pakistan_data[:-18]\n",
        "test_pakistan = pakistan_data[-18:]"
      ],
      "execution_count": null,
      "outputs": []
    },
    {
      "cell_type": "code",
      "metadata": {
        "id": "zL-jB1p5WJAJ"
      },
      "source": [
        "#scaling the data to normalize the values\n",
        "scaler = MinMaxScaler(feature_range=(-1, 1))\n",
        "train_mexico_normalized = scaler.fit_transform(train_mexico.reshape(-1, 1))\n",
        "test_mexico_normalized = scaler.fit_transform(test_mexico.reshape(-1, 1))\n",
        "\n",
        "train_chile_normalized = scaler.fit_transform(train_chile.reshape(-1, 1))\n",
        "test_chile_normalized = scaler.fit_transform(test_chile.reshape(-1, 1))\n",
        "\n",
        "train_portugal_normalized = scaler.fit_transform(train_portugal.reshape(-1, 1))\n",
        "test_portugal_normalized = scaler.fit_transform(test_portugal.reshape(-1, 1))\n",
        "\n",
        "train_ecuador_normalized = scaler.fit_transform(train_ecuador.reshape(-1, 1))\n",
        "test_ecuador_normalized = scaler.fit_transform(test_ecuador.reshape(-1, 1))\n",
        "\n",
        "train_sweden_normalized = scaler.fit_transform(train_sweden.reshape(-1, 1))\n",
        "test_sweden_normalized = scaler.fit_transform(test_sweden.reshape(-1, 1))\n",
        "\n",
        "train_pakistan_normalized = scaler.fit_transform(train_pakistan.reshape(-1, 1))\n",
        "test_pakistan_normalized = scaler.fit_transform(test_pakistan.reshape(-1, 1))"
      ],
      "execution_count": null,
      "outputs": []
    },
    {
      "cell_type": "code",
      "metadata": {
        "id": "6-ZVnARllYGZ"
      },
      "source": [
        "#function to create input sequences for LSTM\n",
        "def create_input_sequences(data, tw):\n",
        "    input_seq = []\n",
        "    L = len(data)\n",
        "    for i in range(L-tw):\n",
        "        train_seq = data[i:i+tw]\n",
        "        train_label = data[i+tw:i+tw+1]\n",
        "        input_seq.append((train_seq ,train_label))\n",
        "    return input_seq"
      ],
      "execution_count": null,
      "outputs": []
    },
    {
      "cell_type": "code",
      "metadata": {
        "id": "39XvAauAXh7R"
      },
      "source": [
        "#converting data to tensors for LSTM\n",
        "train_mexico_normalized = torch.FloatTensor(train_mexico_normalized).view(-1)\n",
        "train_chile_normalized = torch.FloatTensor(train_chile_normalized).view(-1)\n",
        "train_portugal_normalized = torch.FloatTensor(train_portugal_normalized).view(-1)\n",
        "train_ecuador_normalized = torch.FloatTensor(train_ecuador_normalized).view(-1)\n",
        "train_sweden_normalized = torch.FloatTensor(train_sweden_normalized).view(-1)\n",
        "train_pakistan_normalized = torch.FloatTensor(train_pakistan_normalized).view(-1)"
      ],
      "execution_count": null,
      "outputs": []
    },
    {
      "cell_type": "code",
      "metadata": {
        "id": "0zECn8HHUCDW"
      },
      "source": [
        "#selecting train window as 18 for optimal data in each seuqence\n",
        "train_window = 18\n",
        "\n",
        "#creating input sequences\n",
        "train_mexico_input_seq = create_input_sequences(train_mexico_normalized, train_window)\n",
        "train_chile_input_seq = create_input_sequences(train_chile_normalized, train_window)\n",
        "train_portugal_input_seq = create_input_sequences(train_portugal_normalized, train_window)\n",
        "train_ecuador_input_seq = create_input_sequences(train_ecuador_normalized, train_window)\n",
        "train_sweden_input_seq = create_input_sequences(train_sweden_normalized, train_window)\n",
        "train_pakistan_input_seq = create_input_sequences(train_pakistan_normalized, train_window)"
      ],
      "execution_count": null,
      "outputs": []
    },
    {
      "cell_type": "markdown",
      "metadata": {
        "id": "lyhEycngtREX"
      },
      "source": [
        "# Developing LSTM model"
      ]
    },
    {
      "cell_type": "code",
      "metadata": {
        "id": "RwXW2ODitXio"
      },
      "source": [
        "class LSTM(nn.Module):\n",
        "    def __init__(self, input_size=1, hidden_layer_size=100, output_size=1):\n",
        "        super().__init__()\n",
        "        self.hidden_layer_size = hidden_layer_size\n",
        "        self.lstm = nn.LSTM(input_size, hidden_layer_size)\n",
        "        self.linear = nn.Linear(hidden_layer_size, output_size)\n",
        "        self.hidden_cell = (torch.zeros(1,1,self.hidden_layer_size),\n",
        "                            torch.zeros(1,1,self.hidden_layer_size))\n",
        "\n",
        "    def forward(self, input_seq):\n",
        "        lstm_out, self.hidden_cell = self.lstm(input_seq.view(len(input_seq) , 1, -1), self.hidden_cell)\n",
        "        predictions = self.linear(lstm_out.view(len(input_seq), -1))\n",
        "        return predictions[-1]"
      ],
      "execution_count": null,
      "outputs": []
    },
    {
      "cell_type": "code",
      "metadata": {
        "id": "h3WVcRdlAUeF"
      },
      "source": [
        "model = LSTM()\n",
        "loss_function = nn.MSELoss()\n",
        "optimizer = torch.optim.Adam(model.parameters(), lr=0.001)"
      ],
      "execution_count": null,
      "outputs": []
    },
    {
      "cell_type": "code",
      "metadata": {
        "id": "-T8_qCFeAs2h",
        "colab": {
          "base_uri": "https://localhost:8080/",
          "height": 85
        },
        "outputId": "35fe4301-de13-4b70-f1c4-9b6d08eaf96c"
      },
      "source": [
        "print(model)"
      ],
      "execution_count": null,
      "outputs": [
        {
          "output_type": "stream",
          "text": [
            "LSTM(\n",
            "  (lstm): LSTM(1, 100)\n",
            "  (linear): Linear(in_features=100, out_features=1, bias=True)\n",
            ")\n"
          ],
          "name": "stdout"
        }
      ]
    },
    {
      "cell_type": "markdown",
      "metadata": {
        "id": "sRs_r3spxAtK"
      },
      "source": [
        "# Mexico"
      ]
    },
    {
      "cell_type": "markdown",
      "metadata": {
        "id": "sTESyfO9BfPR"
      },
      "source": [
        "## Training Model on Mexico"
      ]
    },
    {
      "cell_type": "code",
      "metadata": {
        "id": "28UhWoAuBfPh",
        "colab": {
          "base_uri": "https://localhost:8080/",
          "height": 136
        },
        "outputId": "43ccc68f-22e8-4a5c-c7e2-a0bc2c8f8efe"
      },
      "source": [
        "epochs = 150\n",
        "\n",
        "for i in range(epochs):\n",
        "    for seq, labels in train_mexico_input_seq:\n",
        "        optimizer.zero_grad()\n",
        "        model.hidden_cell = (torch.zeros(1, 1, model.hidden_layer_size),\n",
        "                        torch.zeros(1, 1, model.hidden_layer_size))\n",
        "\n",
        "        y_pred = model(seq)\n",
        "\n",
        "        single_loss = loss_function(y_pred, labels)\n",
        "        single_loss.backward()\n",
        "        optimizer.step()\n",
        "\n",
        "    if i%25 == 1:\n",
        "        print(f'epoch: {i:3} loss: {single_loss.item():10.8f}')\n",
        "\n",
        "print(f'epoch: {i:3} loss: {single_loss.item():10.10f}')"
      ],
      "execution_count": null,
      "outputs": [
        {
          "output_type": "stream",
          "text": [
            "epoch:   1 loss: 0.00000996\n",
            "epoch:  26 loss: 0.00358827\n",
            "epoch:  51 loss: 0.00182115\n",
            "epoch:  76 loss: 0.00106527\n",
            "epoch: 101 loss: 0.00098702\n",
            "epoch: 126 loss: 0.00145192\n",
            "epoch: 149 loss: 0.0006434011\n"
          ],
          "name": "stdout"
        }
      ]
    },
    {
      "cell_type": "markdown",
      "metadata": {
        "id": "XsaViTrbsbrA"
      },
      "source": [
        "## One month predictions using Mexico"
      ]
    },
    {
      "cell_type": "code",
      "metadata": {
        "id": "l2UbXGYbxNnD"
      },
      "source": [
        "test_predict = 49\n",
        "model.eval()\n",
        "test_inputs_mexico = test_mexico_normalized\n",
        "\n",
        "for i in range(test_predict):\n",
        "    seq = torch.FloatTensor(test_inputs_mexico[-train_window:])\n",
        "    with torch.no_grad():\n",
        "        model.hidden = (torch.zeros(1, 1, model.hidden_layer_size),\n",
        "                        torch.zeros(1, 1, model.hidden_layer_size))\n",
        "        test_inputs_mexico = np.append(test_inputs_mexico, model(seq).item())"
      ],
      "execution_count": null,
      "outputs": []
    },
    {
      "cell_type": "code",
      "metadata": {
        "id": "6FV58oQr0XmC",
        "colab": {
          "base_uri": "https://localhost:8080/",
          "height": 867
        },
        "outputId": "d04e3ac5-516b-4d85-b9bf-3aa53f17cb6d"
      },
      "source": [
        "#inverse normalizing our data to get the actual predicted values\n",
        "predicted_mexico = scaler.inverse_transform(np.array(test_inputs_mexico[-test_predict:]).reshape(-1, 1))\n",
        "\n",
        "print(\"Predicted Data: \\n\", predicted_mexico)"
      ],
      "execution_count": null,
      "outputs": [
        {
          "output_type": "stream",
          "text": [
            "Predicted Data: \n",
            " [[ 61362.44997782]\n",
            " [ 63844.20979476]\n",
            " [ 66618.6618489 ]\n",
            " [ 69802.94143444]\n",
            " [ 73562.49897683]\n",
            " [ 78120.00592899]\n",
            " [ 83760.17443287]\n",
            " [ 90806.11074781]\n",
            " [ 99518.95945501]\n",
            " [109861.21101499]\n",
            " [121134.12100339]\n",
            " [131846.89219975]\n",
            " [140441.36892128]\n",
            " [146347.15470719]\n",
            " [149991.47836852]\n",
            " [152104.05658054]\n",
            " [153288.03064609]\n",
            " [153947.27651882]\n",
            " [154324.31626749]\n",
            " [154532.68504   ]\n",
            " [154590.67212915]\n",
            " [154547.72458243]\n",
            " [154490.44515562]\n",
            " [154463.28603673]\n",
            " [154507.54585052]\n",
            " [154637.13737607]\n",
            " [154806.17935967]\n",
            " [154953.53801942]\n",
            " [155046.61279392]\n",
            " [155080.70425558]\n",
            " [155073.77878332]\n",
            " [155050.05491853]\n",
            " [155025.32108903]\n",
            " [155006.15237117]\n",
            " [154993.22207475]\n",
            " [154984.65455103]\n",
            " [154978.57415128]\n",
            " [154973.88846469]\n",
            " [154970.13029671]\n",
            " [154966.90802836]\n",
            " [154963.92622781]\n",
            " [154961.09557843]\n",
            " [154958.57410192]\n",
            " [154956.56104302]\n",
            " [154955.35870409]\n",
            " [154955.05640173]\n",
            " [154955.48924375]\n",
            " [154956.34118676]\n",
            " [154957.24809384]]\n"
          ],
          "name": "stdout"
        }
      ]
    },
    {
      "cell_type": "markdown",
      "metadata": {
        "id": "TNi3izzR2GJH"
      },
      "source": [
        "## Comparing Pakistan timeline to Mexico Prediction"
      ]
    },
    {
      "cell_type": "code",
      "metadata": {
        "id": "OUkZhuXU2ufR",
        "colab": {
          "base_uri": "https://localhost:8080/",
          "height": 281
        },
        "outputId": "74cfdc67-bdd0-42da-ea89-8296a8cd13f7"
      },
      "source": [
        "plt.title('Actual and Predicted timeline using Mexico')\n",
        "plt.autoscale(axis='both')\n",
        "plt.plot(test_pakistan, label=\"actual\")\n",
        "plt.plot(predicted_mexico[:18], label=\"predicted\")\n",
        "plt.legend(loc='best')\n",
        "plt.show()"
      ],
      "execution_count": null,
      "outputs": [
        {
          "output_type": "display_data",
          "data": {
            "image/png": "[encoded data removed]",
            "text/plain": [
              "<Figure size 432x288 with 1 Axes>"
            ]
          },
          "metadata": {
            "tags": [],
            "needs_background": "light"
          }
        }
      ]
    },
    {
      "cell_type": "markdown",
      "metadata": {
        "id": "8u9noPmZAUxI"
      },
      "source": [
        "# Chile"
      ]
    },
    {
      "cell_type": "markdown",
      "metadata": {
        "id": "TSj3mzO4CAPv"
      },
      "source": [
        "## Training Model on chile"
      ]
    },
    {
      "cell_type": "code",
      "metadata": {
        "id": "K9uruFhDCAP5",
        "colab": {
          "base_uri": "https://localhost:8080/",
          "height": 136
        },
        "outputId": "471a9f62-82bc-4e36-e98a-2128f95ce0a2"
      },
      "source": [
        "epochs = 150\n",
        "\n",
        "for i in range(epochs):\n",
        "    for seq, labels in train_chile_input_seq:\n",
        "        optimizer.zero_grad()\n",
        "        model.hidden_cell = (torch.zeros(1, 1, model.hidden_layer_size),\n",
        "                        torch.zeros(1, 1, model.hidden_layer_size))\n",
        "\n",
        "        y_pred = model(seq)\n",
        "\n",
        "        single_loss = loss_function(y_pred, labels)\n",
        "        single_loss.backward()\n",
        "        optimizer.step()\n",
        "\n",
        "    if i%25 == 1:\n",
        "        print(f'epoch: {i:3} loss: {single_loss.item():10.8f}')\n",
        "\n",
        "print(f'epoch: {i:3} loss: {single_loss.item():10.10f}')"
      ],
      "execution_count": null,
      "outputs": [
        {
          "output_type": "stream",
          "text": [
            "epoch:   1 loss: 0.00096018\n",
            "epoch:  26 loss: 0.00037406\n",
            "epoch:  51 loss: 0.00005006\n",
            "epoch:  76 loss: 0.00006343\n",
            "epoch: 101 loss: 0.00037429\n",
            "epoch: 126 loss: 0.00174460\n",
            "epoch: 149 loss: 0.0005461471\n"
          ],
          "name": "stdout"
        }
      ]
    },
    {
      "cell_type": "markdown",
      "metadata": {
        "id": "17erAN5AAQjf"
      },
      "source": [
        "## One month predictions using chile"
      ]
    },
    {
      "cell_type": "code",
      "metadata": {
        "id": "m8wF9DnjAQjG"
      },
      "source": [
        "test_predict = 49\n",
        "model.eval()\n",
        "test_inputs_chile = test_chile_normalized\n",
        "\n",
        "for i in range(test_predict):\n",
        "    seq = torch.FloatTensor(test_inputs_chile[-train_window:])\n",
        "    with torch.no_grad():\n",
        "        model.hidden = (torch.zeros(1, 1, model.hidden_layer_size),\n",
        "                        torch.zeros(1, 1, model.hidden_layer_size))\n",
        "        test_inputs_chile = np.append(test_inputs_chile, model(seq).item())"
      ],
      "execution_count": null,
      "outputs": []
    },
    {
      "cell_type": "code",
      "metadata": {
        "id": "-IzpV8mbAQji",
        "colab": {
          "base_uri": "https://localhost:8080/",
          "height": 867
        },
        "outputId": "a6b25dac-9199-4ad0-b61e-25714702635b"
      },
      "source": [
        "#inverse normalizing our data to get the actual predicted values\n",
        "predicted_chile = scaler.inverse_transform(np.array(test_inputs_chile[-test_predict:]).reshape(-1, 1))\n",
        "\n",
        "print(\"Predicted Data: \\n\", predicted_chile)"
      ],
      "execution_count": null,
      "outputs": [
        {
          "output_type": "stream",
          "text": [
            "Predicted Data: \n",
            " [[60796.63958126]\n",
            " [62308.88481069]\n",
            " [63599.75711322]\n",
            " [64806.51721919]\n",
            " [65963.59324515]\n",
            " [67062.13597655]\n",
            " [68063.25146651]\n",
            " [68916.03955507]\n",
            " [69538.48355067]\n",
            " [69760.96091175]\n",
            " [69365.16124046]\n",
            " [68082.46484268]\n",
            " [65302.70875621]\n",
            " [60751.5432831 ]\n",
            " [53887.3070043 ]\n",
            " [51696.0580382 ]\n",
            " [53218.14355299]\n",
            " [58985.82010081]\n",
            " [64583.22913814]\n",
            " [69164.26758087]\n",
            " [71296.75309038]\n",
            " [70878.03683901]\n",
            " [65930.63198209]\n",
            " [63225.51022613]\n",
            " [65554.43730593]\n",
            " [68408.80024087]\n",
            " [74311.33284116]\n",
            " [77997.8482933 ]\n",
            " [78979.48589253]\n",
            " [71851.12409079]\n",
            " [62416.98195136]\n",
            " [66530.05977523]\n",
            " [70442.72831035]\n",
            " [79007.05037141]\n",
            " [76560.98456216]\n",
            " [85142.80580759]\n",
            " [76973.20818329]\n",
            " [65255.21980357]\n",
            " [50644.16219278]\n",
            " [43491.71389223]\n",
            " [35099.48152927]\n",
            " [30209.28310001]\n",
            " [28075.7120502 ]\n",
            " [28047.01050222]\n",
            " [29139.5003159 ]\n",
            " [30236.82696736]\n",
            " [30888.32204804]\n",
            " [31132.61327264]\n",
            " [31378.19443515]]\n"
          ],
          "name": "stdout"
        }
      ]
    },
    {
      "cell_type": "markdown",
      "metadata": {
        "id": "vwILe-IKAQjw"
      },
      "source": [
        "## Comparing Pakistan timeline to Chile Prediction"
      ]
    },
    {
      "cell_type": "code",
      "metadata": {
        "id": "NAYoOLsiAQjx",
        "colab": {
          "base_uri": "https://localhost:8080/",
          "height": 281
        },
        "outputId": "a4754b96-0824-4aef-eca7-b7b7f9cc9135"
      },
      "source": [
        "plt.title('Actual and Predicted timeline using Chile')\n",
        "plt.autoscale(axis='both')\n",
        "plt.plot(test_pakistan, label=\"actual\")\n",
        "plt.plot(predicted_chile[:18], label=\"predicted\")\n",
        "plt.legend(loc='best')\n",
        "plt.show()"
      ],
      "execution_count": null,
      "outputs": [
        {
          "output_type": "display_data",
          "data": {
            "image/png": "[encoded data removed]",
            "text/plain": [
              "<Figure size 432x288 with 1 Axes>"
            ]
          },
          "metadata": {
            "tags": [],
            "needs_background": "light"
          }
        }
      ]
    },
    {
      "cell_type": "markdown",
      "metadata": {
        "id": "Erbvv8guAmdL"
      },
      "source": [
        "# Portugal"
      ]
    },
    {
      "cell_type": "markdown",
      "metadata": {
        "id": "aI8pq8udCRAV"
      },
      "source": [
        "## Training Model on portugal"
      ]
    },
    {
      "cell_type": "code",
      "metadata": {
        "id": "PrjRPBn1CRAY",
        "colab": {
          "base_uri": "https://localhost:8080/",
          "height": 136
        },
        "outputId": "4ed39b47-97f6-4954-ff13-b099ed23d41f"
      },
      "source": [
        "epochs = 150\n",
        "\n",
        "for i in range(epochs):\n",
        "    for seq, labels in train_portugal_input_seq:\n",
        "        optimizer.zero_grad()\n",
        "        model.hidden_cell = (torch.zeros(1, 1, model.hidden_layer_size),\n",
        "                        torch.zeros(1, 1, model.hidden_layer_size))\n",
        "\n",
        "        y_pred = model(seq)\n",
        "\n",
        "        single_loss = loss_function(y_pred, labels)\n",
        "        single_loss.backward()\n",
        "        optimizer.step()\n",
        "\n",
        "    if i%25 == 1:\n",
        "        print(f'epoch: {i:3} loss: {single_loss.item():10.8f}')\n",
        "\n",
        "print(f'epoch: {i:3} loss: {single_loss.item():10.10f}')"
      ],
      "execution_count": null,
      "outputs": [
        {
          "output_type": "stream",
          "text": [
            "epoch:   1 loss: 0.00027771\n",
            "epoch:  26 loss: 0.00002724\n",
            "epoch:  51 loss: 0.00025726\n",
            "epoch:  76 loss: 0.00003231\n",
            "epoch: 101 loss: 0.00003590\n",
            "epoch: 126 loss: 0.00014697\n",
            "epoch: 149 loss: 0.0001237251\n"
          ],
          "name": "stdout"
        }
      ]
    },
    {
      "cell_type": "markdown",
      "metadata": {
        "id": "LxtlzdYBAmde"
      },
      "source": [
        "## One month predictions using portugal"
      ]
    },
    {
      "cell_type": "code",
      "metadata": {
        "id": "tdwdrP-HAmdP"
      },
      "source": [
        "test_predict = 49\n",
        "model.eval()\n",
        "test_inputs_portugal = test_portugal_normalized\n",
        "\n",
        "for i in range(test_predict):\n",
        "    seq = torch.FloatTensor(test_inputs_portugal[-train_window:])\n",
        "    with torch.no_grad():\n",
        "        model.hidden = (torch.zeros(1, 1, model.hidden_layer_size),\n",
        "                        torch.zeros(1, 1, model.hidden_layer_size))\n",
        "        test_inputs_portugal = np.append(test_inputs_portugal, model(seq).item())"
      ],
      "execution_count": null,
      "outputs": []
    },
    {
      "cell_type": "code",
      "metadata": {
        "id": "aJ6CxhZYAmdg",
        "colab": {
          "base_uri": "https://localhost:8080/",
          "height": 867
        },
        "outputId": "e5ff9a56-b997-456c-a456-cc893f2dc5a3"
      },
      "source": [
        "#inverse normalizing our data to get the actual predicted values\n",
        "predicted_portugal = scaler.inverse_transform(np.array(test_inputs_portugal[-test_predict:]).reshape(-1, 1))\n",
        "\n",
        "print(\"Predicted Data: \\n\", predicted_portugal)"
      ],
      "execution_count": null,
      "outputs": [
        {
          "output_type": "stream",
          "text": [
            "Predicted Data: \n",
            " [[59242.45848745]\n",
            " [58230.31669065]\n",
            " [57313.45939556]\n",
            " [56526.44783482]\n",
            " [56381.83136666]\n",
            " [56915.59857181]\n",
            " [57878.63942298]\n",
            " [58972.74981779]\n",
            " [60084.22971612]\n",
            " [61139.73214895]\n",
            " [62286.08331162]\n",
            " [61811.56994557]\n",
            " [45028.40009574]\n",
            " [45466.65864886]\n",
            " [37435.27224675]\n",
            " [29231.23877656]\n",
            " [27755.23376024]\n",
            " [27903.67624265]\n",
            " [28620.84565234]\n",
            " [28390.38647836]\n",
            " [28278.05538702]\n",
            " [31680.04505977]\n",
            " [34531.53268704]\n",
            " [36948.14978054]\n",
            " [38398.13618234]\n",
            " [43268.92564065]\n",
            " [49721.3812314 ]\n",
            " [51729.62132955]\n",
            " [56019.85864246]\n",
            " [71441.08357364]\n",
            " [76774.02528024]\n",
            " [74526.898471  ]\n",
            " [47442.48347464]\n",
            " [22347.91880244]\n",
            " [18488.13600415]\n",
            " [26721.9625743 ]\n",
            " [28425.35736507]\n",
            " [30883.23271909]\n",
            " [33368.59783521]\n",
            " [35935.82935053]\n",
            " [39278.21650589]\n",
            " [43774.27212984]\n",
            " [47992.69717348]\n",
            " [50899.94047767]\n",
            " [52526.32030684]\n",
            " [53324.24051696]\n",
            " [53821.45060682]\n",
            " [54249.97107339]\n",
            " [54673.35325864]]\n"
          ],
          "name": "stdout"
        }
      ]
    },
    {
      "cell_type": "markdown",
      "metadata": {
        "id": "JPfKEPK5Amdq"
      },
      "source": [
        "## Comparing Pakistan timeline to Portugal Prediction"
      ]
    },
    {
      "cell_type": "code",
      "metadata": {
        "id": "XPRRY0X1Amdr",
        "colab": {
          "base_uri": "https://localhost:8080/",
          "height": 281
        },
        "outputId": "c5c5de2a-c39c-4915-d3b6-626c8a7be746"
      },
      "source": [
        "plt.title('Actual and Predicted timeline using portugal')\n",
        "plt.autoscale(axis='both')\n",
        "plt.plot(test_pakistan, label=\"actual\")\n",
        "plt.plot(predicted_portugal[:18], label=\"predicted\")\n",
        "plt.legend(loc='best')\n",
        "plt.show()"
      ],
      "execution_count": null,
      "outputs": [
        {
          "output_type": "display_data",
          "data": {
            "image/png": "[encoded data removed]",
            "text/plain": [
              "<Figure size 432x288 with 1 Axes>"
            ]
          },
          "metadata": {
            "tags": [],
            "needs_background": "light"
          }
        }
      ]
    },
    {
      "cell_type": "markdown",
      "metadata": {
        "id": "YAPQcLt8AqWX"
      },
      "source": [
        "# Ecuador"
      ]
    },
    {
      "cell_type": "markdown",
      "metadata": {
        "id": "oHMq21trCSOc"
      },
      "source": [
        "## Training Model on ecuador"
      ]
    },
    {
      "cell_type": "code",
      "metadata": {
        "id": "PJfTBpujCSOh",
        "colab": {
          "base_uri": "https://localhost:8080/",
          "height": 136
        },
        "outputId": "2a2d2437-64a5-4b88-9634-cd7338fa162a"
      },
      "source": [
        "epochs = 150\n",
        "\n",
        "for i in range(epochs):\n",
        "    for seq, labels in train_ecuador_input_seq:\n",
        "        optimizer.zero_grad()\n",
        "        model.hidden_cell = (torch.zeros(1, 1, model.hidden_layer_size),\n",
        "                        torch.zeros(1, 1, model.hidden_layer_size))\n",
        "\n",
        "        y_pred = model(seq)\n",
        "\n",
        "        single_loss = loss_function(y_pred, labels)\n",
        "        single_loss.backward()\n",
        "        optimizer.step()\n",
        "\n",
        "    if i%25 == 1:\n",
        "        print(f'epoch: {i:3} loss: {single_loss.item():10.8f}')\n",
        "\n",
        "print(f'epoch: {i:3} loss: {single_loss.item():10.10f}')"
      ],
      "execution_count": null,
      "outputs": [
        {
          "output_type": "stream",
          "text": [
            "epoch:   1 loss: 0.00552547\n",
            "epoch:  26 loss: 0.00023977\n",
            "epoch:  51 loss: 0.00004560\n",
            "epoch:  76 loss: 0.00029454\n",
            "epoch: 101 loss: 0.00017025\n",
            "epoch: 126 loss: 0.00000736\n",
            "epoch: 149 loss: 0.0001100889\n"
          ],
          "name": "stdout"
        }
      ]
    },
    {
      "cell_type": "markdown",
      "metadata": {
        "id": "ViehvuS5AqWp"
      },
      "source": [
        "## One month predictions using ecuador"
      ]
    },
    {
      "cell_type": "code",
      "metadata": {
        "id": "J1PWrFPfAqWZ"
      },
      "source": [
        "test_predict = 49\n",
        "model.eval()\n",
        "test_inputs_ecuador = test_ecuador_normalized\n",
        "\n",
        "for i in range(test_predict):\n",
        "    seq = torch.FloatTensor(test_inputs_ecuador[-train_window:])\n",
        "    with torch.no_grad():\n",
        "        model.hidden = (torch.zeros(1, 1, model.hidden_layer_size),\n",
        "                        torch.zeros(1, 1, model.hidden_layer_size))\n",
        "        test_inputs_ecuador = np.append(test_inputs_ecuador, model(seq).item())"
      ],
      "execution_count": null,
      "outputs": []
    },
    {
      "cell_type": "code",
      "metadata": {
        "id": "3_mIi6XNAqWr",
        "colab": {
          "base_uri": "https://localhost:8080/",
          "height": 867
        },
        "outputId": "c4689ebb-44a8-464e-c2d6-396b955b6452"
      },
      "source": [
        "#inverse normalizing our data to get the actual predicted values\n",
        "predicted_ecuador = scaler.inverse_transform(np.array(test_inputs_ecuador[-test_predict:]).reshape(-1, 1))\n",
        "\n",
        "print(\"Predicted Data: \\n\", predicted_ecuador)"
      ],
      "execution_count": null,
      "outputs": [
        {
          "output_type": "stream",
          "text": [
            "Predicted Data: \n",
            " [[61498.1459499 ]\n",
            " [64097.8638044 ]\n",
            " [65477.44467348]\n",
            " [65832.25489289]\n",
            " [67208.2562272 ]\n",
            " [66985.95406407]\n",
            " [66217.72303748]\n",
            " [65345.65286767]\n",
            " [68446.49528408]\n",
            " [69971.83741975]\n",
            " [70153.03504997]\n",
            " [70517.62715542]\n",
            " [70461.41265738]\n",
            " [70752.12447059]\n",
            " [70844.17897463]\n",
            " [70947.53202939]\n",
            " [70991.27140218]\n",
            " [71044.21038544]\n",
            " [71082.91882861]\n",
            " [71104.26377994]\n",
            " [71121.78529346]\n",
            " [71132.716272  ]\n",
            " [71143.46002918]\n",
            " [71149.29137301]\n",
            " [71155.24123311]\n",
            " [71159.30170345]\n",
            " [71163.24881041]\n",
            " [71163.62497073]\n",
            " [71164.69848764]\n",
            " [71165.3821032 ]\n",
            " [71165.95579064]\n",
            " [71181.01937985]\n",
            " [70982.95636964]\n",
            " [70905.41066128]\n",
            " [70901.24369806]\n",
            " [70886.25396681]\n",
            " [70895.97230065]\n",
            " [70894.76996171]\n",
            " [70894.6359868 ]\n",
            " [70895.3848722 ]\n",
            " [70896.38624877]\n",
            " [70897.70366871]\n",
            " [70898.39243716]\n",
            " [70898.88196087]\n",
            " [70899.12929916]\n",
            " [70899.20831001]\n",
            " [70899.2838856 ]\n",
            " [70899.22548628]\n",
            " [70899.21002764]]\n"
          ],
          "name": "stdout"
        }
      ]
    },
    {
      "cell_type": "markdown",
      "metadata": {
        "id": "UwdT0mrmAqW1"
      },
      "source": [
        "## Comparing Pakistan timeline to Ecuador Prediction"
      ]
    },
    {
      "cell_type": "code",
      "metadata": {
        "id": "WIPODu5fAqW4",
        "colab": {
          "base_uri": "https://localhost:8080/",
          "height": 281
        },
        "outputId": "5d4265c6-7900-433c-a556-61a79b6b119a"
      },
      "source": [
        "plt.title('Actual and Predicted timeline using ecuador')\n",
        "plt.autoscale(axis='both')\n",
        "plt.plot(test_pakistan, label=\"actual\")\n",
        "plt.plot(predicted_ecuador[:18], label=\"predicted\")\n",
        "plt.legend(loc='best')\n",
        "plt.show()"
      ],
      "execution_count": null,
      "outputs": [
        {
          "output_type": "display_data",
          "data": {
            "image/png": "[encoded data removed]",
            "text/plain": [
              "<Figure size 432x288 with 1 Axes>"
            ]
          },
          "metadata": {
            "tags": [],
            "needs_background": "light"
          }
        }
      ]
    },
    {
      "cell_type": "markdown",
      "metadata": {
        "id": "zIwkmQVKAufh"
      },
      "source": [
        "# Sweden"
      ]
    },
    {
      "cell_type": "markdown",
      "metadata": {
        "id": "W10qcW0NCTbJ"
      },
      "source": [
        "## Training Model on sweden"
      ]
    },
    {
      "cell_type": "code",
      "metadata": {
        "id": "1ZT-N72FCTbM",
        "colab": {
          "base_uri": "https://localhost:8080/",
          "height": 136
        },
        "outputId": "f35307ef-52be-44ba-f7f3-bebeaba06246"
      },
      "source": [
        "epochs = 150\n",
        "\n",
        "for i in range(epochs):\n",
        "    for seq, labels in train_sweden_input_seq:\n",
        "        optimizer.zero_grad()\n",
        "        model.hidden_cell = (torch.zeros(1, 1, model.hidden_layer_size),\n",
        "                        torch.zeros(1, 1, model.hidden_layer_size))\n",
        "\n",
        "        y_pred = model(seq)\n",
        "\n",
        "        single_loss = loss_function(y_pred, labels)\n",
        "        single_loss.backward()\n",
        "        optimizer.step()\n",
        "\n",
        "    if i%25 == 1:\n",
        "        print(f'epoch: {i:3} loss: {single_loss.item():10.8f}')\n",
        "\n",
        "print(f'epoch: {i:3} loss: {single_loss.item():10.10f}')"
      ],
      "execution_count": null,
      "outputs": [
        {
          "output_type": "stream",
          "text": [
            "epoch:   1 loss: 0.00647022\n",
            "epoch:  26 loss: 0.00004224\n",
            "epoch:  51 loss: 0.00000003\n",
            "epoch:  76 loss: 0.00002395\n",
            "epoch: 101 loss: 0.00040132\n",
            "epoch: 126 loss: 0.00020063\n",
            "epoch: 149 loss: 0.0000058023\n"
          ],
          "name": "stdout"
        }
      ]
    },
    {
      "cell_type": "markdown",
      "metadata": {
        "id": "NgesSY2nAufv"
      },
      "source": [
        "## One month predictions using sweden"
      ]
    },
    {
      "cell_type": "code",
      "metadata": {
        "id": "0DG4z3_PAufk"
      },
      "source": [
        "test_predict = 49\n",
        "model.eval()\n",
        "test_inputs_sweden = test_sweden_normalized\n",
        "\n",
        "for i in range(test_predict):\n",
        "    seq = torch.FloatTensor(test_inputs_sweden[-train_window:])\n",
        "    with torch.no_grad():\n",
        "        model.hidden = (torch.zeros(1, 1, model.hidden_layer_size),\n",
        "                        torch.zeros(1, 1, model.hidden_layer_size))\n",
        "        test_inputs_sweden = np.append(test_inputs_sweden, model(seq).item())"
      ],
      "execution_count": null,
      "outputs": []
    },
    {
      "cell_type": "code",
      "metadata": {
        "id": "lrx1IxsuAufw",
        "colab": {
          "base_uri": "https://localhost:8080/",
          "height": 867
        },
        "outputId": "8b42bd17-2e51-4115-8243-12c7305b8401"
      },
      "source": [
        "#inverse normalizing our data to get the actual predicted values\n",
        "predicted_sweden = scaler.inverse_transform(np.array(test_inputs_sweden[-test_predict:]).reshape(-1, 1))\n",
        "\n",
        "print(\"Predicted Data: \\n\", predicted_sweden)"
      ],
      "execution_count": null,
      "outputs": [
        {
          "output_type": "stream",
          "text": [
            "Predicted Data: \n",
            " [[60201.37188083]\n",
            " [58035.94915503]\n",
            " [54520.30152404]\n",
            " [46586.93880937]\n",
            " [35990.58214796]\n",
            " [38766.0312846 ]\n",
            " [37771.13360456]\n",
            " [39054.46724197]\n",
            " [41710.24157283]\n",
            " [44242.10027671]\n",
            " [47026.72240061]\n",
            " [48923.41292772]\n",
            " [50306.20833582]\n",
            " [51219.5466425 ]\n",
            " [51914.25721972]\n",
            " [52657.40702674]\n",
            " [53368.54413024]\n",
            " [54002.05737334]\n",
            " [54324.78060186]\n",
            " [54541.79075605]\n",
            " [54787.67336211]\n",
            " [55094.75072584]\n",
            " [54716.54556721]\n",
            " [52853.55316517]\n",
            " [49279.46112682]\n",
            " [47766.77081729]\n",
            " [50382.91627158]\n",
            " [53248.5232226 ]\n",
            " [57791.39169824]\n",
            " [54575.74308991]\n",
            " [50737.08882195]\n",
            " [43653.75461328]\n",
            " [41653.13605575]\n",
            " [39764.90613008]\n",
            " [38765.28583446]\n",
            " [38823.69631869]\n",
            " [39202.04661679]\n",
            " [40600.10915291]\n",
            " [42064.81733614]\n",
            " [43807.00688083]\n",
            " [45479.02363127]\n",
            " [46948.53730558]\n",
            " [48182.36592561]\n",
            " [49166.70878744]\n",
            " [49988.01191339]\n",
            " [50720.93024549]\n",
            " [51413.02874137]\n",
            " [52055.13226676]\n",
            " [52625.95899311]]\n"
          ],
          "name": "stdout"
        }
      ]
    },
    {
      "cell_type": "markdown",
      "metadata": {
        "id": "z9jTUQumAuf1"
      },
      "source": [
        "## Comparing Pakistan timeline to Sweden Prediction"
      ]
    },
    {
      "cell_type": "code",
      "metadata": {
        "id": "cnS7v1WbAuf1",
        "colab": {
          "base_uri": "https://localhost:8080/",
          "height": 281
        },
        "outputId": "ba108823-900b-43fa-d27b-dce195579d78"
      },
      "source": [
        "plt.title('Actual and Predicted timeline using sweden')\n",
        "plt.autoscale(axis='both')\n",
        "plt.plot(test_pakistan, label=\"actual\")\n",
        "plt.plot(predicted_sweden[:18], label=\"predicted\")\n",
        "plt.legend(loc='best')\n",
        "plt.show()"
      ],
      "execution_count": null,
      "outputs": [
        {
          "output_type": "display_data",
          "data": {
            "image/png": "[encoded data removed]",
            "text/plain": [
              "<Figure size 432x288 with 1 Axes>"
            ]
          },
          "metadata": {
            "tags": [],
            "needs_background": "light"
          }
        }
      ]
    },
    {
      "cell_type": "markdown",
      "metadata": {
        "id": "UsNfPtgXA0yj"
      },
      "source": [
        "# Pakistan"
      ]
    },
    {
      "cell_type": "markdown",
      "metadata": {
        "id": "MceSyxCcCUTx"
      },
      "source": [
        "## Training Model on Pakistan"
      ]
    },
    {
      "cell_type": "code",
      "metadata": {
        "id": "_HSbY_6lCUT0",
        "colab": {
          "base_uri": "https://localhost:8080/",
          "height": 136
        },
        "outputId": "32ab4dc6-0e00-4572-992b-ddc8f1b40f24"
      },
      "source": [
        "epochs = 150\n",
        "\n",
        "for i in range(epochs):\n",
        "    for seq, labels in train_pakistan_input_seq:\n",
        "        optimizer.zero_grad()\n",
        "        model.hidden_cell = (torch.zeros(1, 1, model.hidden_layer_size),\n",
        "                        torch.zeros(1, 1, model.hidden_layer_size))\n",
        "\n",
        "        y_pred = model(seq)\n",
        "\n",
        "        single_loss = loss_function(y_pred, labels)\n",
        "        single_loss.backward()\n",
        "        optimizer.step()\n",
        "\n",
        "    if i%25 == 1:\n",
        "        print(f'epoch: {i:3} loss: {single_loss.item():10.8f}')\n",
        "\n",
        "print(f'epoch: {i:3} loss: {single_loss.item():10.10f}')"
      ],
      "execution_count": null,
      "outputs": [
        {
          "output_type": "stream",
          "text": [
            "epoch:   1 loss: 0.00019436\n",
            "epoch:  26 loss: 0.00062752\n",
            "epoch:  51 loss: 0.00056285\n",
            "epoch:  76 loss: 0.00036123\n",
            "epoch: 101 loss: 0.00015123\n",
            "epoch: 126 loss: 0.00033113\n",
            "epoch: 149 loss: 0.0001512816\n"
          ],
          "name": "stdout"
        }
      ]
    },
    {
      "cell_type": "markdown",
      "metadata": {
        "id": "AMN8fz7bA0yy"
      },
      "source": [
        "## One month predictions using pakistan"
      ]
    },
    {
      "cell_type": "code",
      "metadata": {
        "id": "4y_1OIp6A0yl"
      },
      "source": [
        "test_predict = 49\n",
        "model.eval()\n",
        "test_inputs_pakistan = test_pakistan_normalized\n",
        "\n",
        "for i in range(test_predict):\n",
        "    seq = torch.FloatTensor(test_inputs_pakistan[-train_window:])\n",
        "    with torch.no_grad():\n",
        "        model.hidden = (torch.zeros(1, 1, model.hidden_layer_size),\n",
        "                        torch.zeros(1, 1, model.hidden_layer_size))\n",
        "        test_inputs_pakistan = np.append(test_inputs_pakistan, model(seq).item())"
      ],
      "execution_count": null,
      "outputs": []
    },
    {
      "cell_type": "code",
      "metadata": {
        "id": "2-cW3IPNA0y0",
        "colab": {
          "base_uri": "https://localhost:8080/",
          "height": 867
        },
        "outputId": "ed57b643-affe-416c-e24c-226e355d8e82"
      },
      "source": [
        "#inverse normalizing our data to get the actual predicted values\n",
        "predicted_pakistan = scaler.inverse_transform(np.array(test_inputs_pakistan[-test_predict:]).reshape(-1, 1))\n",
        "\n",
        "print(\"Predicted Data: \\n\", predicted_pakistan)"
      ],
      "execution_count": null,
      "outputs": [
        {
          "output_type": "stream",
          "text": [
            "Predicted Data: \n",
            " [[59399.85667729]\n",
            " [60603.17465866]\n",
            " [62356.93714499]\n",
            " [63331.92580992]\n",
            " [64313.88804066]\n",
            " [65086.01979828]\n",
            " [66140.48134911]\n",
            " [66690.40541309]\n",
            " [66651.87045026]\n",
            " [67127.87128133]\n",
            " [67634.43900335]\n",
            " [68767.53352046]\n",
            " [72740.82741988]\n",
            " [76645.1585933 ]\n",
            " [82299.06467831]\n",
            " [89148.8789016 ]\n",
            " [97103.04830623]\n",
            " [95279.48145664]\n",
            " [62832.87270623]\n",
            " [36168.46647561]\n",
            " [36702.54371244]\n",
            " [32757.50821322]\n",
            " [34696.30722624]\n",
            " [29439.34303451]\n",
            " [25965.07303911]\n",
            " [25357.97432357]\n",
            " [24483.7347908 ]\n",
            " [24226.92206502]\n",
            " [24841.17641485]\n",
            " [25326.22914046]\n",
            " [25763.75169039]\n",
            " [26032.11030519]\n",
            " [26083.59274071]\n",
            " [26236.88580191]\n",
            " [26487.33643711]\n",
            " [26779.50823331]\n",
            " [26979.45032752]\n",
            " [27186.42438686]\n",
            " [27415.58159953]\n",
            " [27651.44099295]\n",
            " [27871.9413653 ]\n",
            " [28083.57534683]\n",
            " [28292.93003726]\n",
            " [28514.49705601]\n",
            " [28755.3839438 ]\n",
            " [29019.62197131]\n",
            " [29308.37397206]\n",
            " [29623.60662901]\n",
            " [29969.88024199]]\n"
          ],
          "name": "stdout"
        }
      ]
    },
    {
      "cell_type": "markdown",
      "metadata": {
        "id": "nx96vn9VA0y7"
      },
      "source": [
        "## Comparing Pakistan timeline to Pakistan Prediction"
      ]
    },
    {
      "cell_type": "code",
      "metadata": {
        "id": "eyKz7BV8A0y9",
        "colab": {
          "base_uri": "https://localhost:8080/",
          "height": 281
        },
        "outputId": "71c710a1-fe0d-42e7-f608-9691bf864032"
      },
      "source": [
        "plt.title('Actual and Predicted timeline using pakistan')\n",
        "plt.autoscale(axis='both')\n",
        "plt.plot(test_pakistan, label=\"actual\")\n",
        "plt.plot(predicted_pakistan[:18], label=\"predicted\")\n",
        "plt.legend(loc='best')\n",
        "plt.show()"
      ],
      "execution_count": null,
      "outputs": [
        {
          "output_type": "display_data",
          "data": {
            "image/png": "[encoded data removed]",
            "text/plain": [
              "<Figure size 432x288 with 1 Axes>"
            ]
          },
          "metadata": {
            "tags": [],
            "needs_background": "light"
          }
        }
      ]
    },
    {
      "cell_type": "markdown",
      "metadata": {
        "id": "BbiaYe3ycIDH"
      },
      "source": [
        "# Future timelines predicted by countries"
      ]
    },
    {
      "cell_type": "code",
      "metadata": {
        "id": "diAftbAccPF7",
        "colab": {
          "base_uri": "https://localhost:8080/",
          "height": 281
        },
        "outputId": "98a1d180-1b9b-441b-91a7-861030b8c597"
      },
      "source": [
        "plt.title('Future timelines predicted using all countries')\n",
        "plt.autoscale(axis='x')\n",
        "plt.plot(predicted_mexico, label=\"Mexico\")\n",
        "plt.plot(predicted_chile, label=\"Chile\")\n",
        "plt.plot(predicted_portugal, label=\"Portugal\")\n",
        "plt.plot(predicted_ecuador, label=\"Ecuador\")\n",
        "plt.plot(predicted_sweden, label=\"Sweden\")\n",
        "plt.plot(predicted_pakistan, label=\"Pakistan\")\n",
        "plt.legend(loc='best')\n",
        "plt.show()"
      ],
      "execution_count": null,
      "outputs": [
        {
          "output_type": "display_data",
          "data": {
            "image/png": "[encoded data removed]",
            "text/plain": [
              "<Figure size 432x288 with 1 Axes>"
            ]
          },
          "metadata": {
            "tags": [],
            "needs_background": "light"
          }
        }
      ]
    }
  ]
}